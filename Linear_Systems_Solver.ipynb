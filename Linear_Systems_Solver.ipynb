{
  "nbformat": 4,
  "nbformat_minor": 0,
  "metadata": {
    "colab": {
      "provenance": [],
      "include_colab_link": true
    },
    "kernelspec": {
      "name": "python3",
      "display_name": "Python 3"
    },
    "language_info": {
      "name": "python"
    }
  },
  "cells": [
    {
      "cell_type": "markdown",
      "metadata": {
        "id": "view-in-github",
        "colab_type": "text"
      },
      "source": [
        "<a href=\"https://colab.research.google.com/github/troymerales/python-notebooks-nm/blob/main/Linear_Systems_Solver.ipynb\" target=\"_parent\"><img src=\"https://colab.research.google.com/assets/colab-badge.svg\" alt=\"Open In Colab\"/></a>"
      ]
    },
    {
      "cell_type": "markdown",
      "source": [
        "#Linear Systems Solver\n",
        "In this notebook, I will show you a program that evaluates systems of linear equations using three methods: **Forward Substitution**, **Backward Substitution**, and **Gauss-Seidel**. Note that forward and backward substitutions only deal with lower and upper triangular matrices respectively. Thus, we will introduce another code to derive such matrices, called **LU Decomposition**."
      ],
      "metadata": {
        "id": "aBXRx0B7fJX2"
      }
    },
    {
      "cell_type": "markdown",
      "source": [
        "# Forward Substitution\n",
        "\n",
        "Forward Substitution is a method used to solve a system of the form $Ly=b$, where $L$ is a lower triangular matrix, $y$ is the unknown vector, and $b$ is the known right hand vector."
      ],
      "metadata": {
        "id": "FcOJpi7PiZnb"
      }
    },
    {
      "cell_type": "code",
      "source": [
        "import numpy as np\n",
        "\n",
        "def forsub(L, b):\n",
        "    n = L.shape[0]\n",
        "    x = np.zeros(n)\n",
        "    for i in range(n):\n",
        "        x[i] = ((b[i] - L[i, :i] @ x[:i]) / L[i, i]).item()\n",
        "    return x"
      ],
      "metadata": {
        "id": "gA5KFb9bi8q6"
      },
      "execution_count": null,
      "outputs": []
    },
    {
      "cell_type": "markdown",
      "source": [
        "Say we have the following linear system: \\\\\n",
        "$\n",
        "\\begin{array}{r}\n",
        "y_1=5 \\\\\n",
        "2y_1+y_2=8 \\\\\n",
        "-y_1+y_2+y_3=4\n",
        "\\end{array}\n",
        "$ \\\\\n",
        "Converting this to a matrix, we have, \\\\\n",
        "$ \\begin{bmatrix}\n",
        "1 & 0 & 0\n",
        "\\\\ 2 & 1 & 0\n",
        "\\\\ -1 & 1 & 1\n",
        "\\end{bmatrix} $\n",
        "$ \\begin{bmatrix}\n",
        "y_1 \\\\\n",
        "y_2 \\\\\n",
        "y_3\n",
        "\\end{bmatrix} =\n",
        "\\begin{bmatrix}\n",
        "5 \\\\\n",
        "8 \\\\\n",
        "4\n",
        "\\end{bmatrix} $. \\\\\n",
        "Note that the matrix is a lower triangular matrix. Thus, we can use forward substitution.\n"
      ],
      "metadata": {
        "id": "daaSQjNzjAvA"
      }
    },
    {
      "cell_type": "code",
      "source": [
        "L=np.array([[1,0,0],\n",
        "           [2,1,0],\n",
        "           [-1,1,1]])\n",
        "b=np.array([[5],\n",
        "           [8],\n",
        "           [4]])\n",
        "print(\"Solution: \", forsub(L,b))"
      ],
      "metadata": {
        "colab": {
          "base_uri": "https://localhost:8080/"
        },
        "id": "OJN_JS3rjErH",
        "outputId": "ee77535c-3e0f-4c80-ef26-150605841c23"
      },
      "execution_count": null,
      "outputs": [
        {
          "output_type": "stream",
          "name": "stdout",
          "text": [
            "Solution:  [ 5. -2. 11.]\n"
          ]
        }
      ]
    },
    {
      "cell_type": "markdown",
      "source": [
        "# Backward Substitution\n",
        "\n",
        "On the other hand, Forward Substitution is used to solve a system of the form $Ux=d$, where $U$ is an upper triangular matrix, $x$ is the unknown vector, and $d$ is the known right hand vector."
      ],
      "metadata": {
        "id": "0e7sE17qnDG5"
      }
    },
    {
      "cell_type": "code",
      "source": [
        "import numpy as np\n",
        "\n",
        "def backsub(U, d):\n",
        "    n = U.shape[0]\n",
        "    x = np.zeros(n)\n",
        "    for i in range(n-1, -1, -1):\n",
        "        x[i] = ((d[i] - U[i, i+1:] @ x[i+1:])).item() / U[i, i].item()\n",
        "    return x"
      ],
      "metadata": {
        "id": "Qt35TTtFnU4F"
      },
      "execution_count": null,
      "outputs": []
    },
    {
      "cell_type": "markdown",
      "source": [
        "Say we have the following linear system: \\\\\n",
        "$\n",
        "\\begin{array}{r}\n",
        "2x_1+x_2+x_3=5 \\\\\n",
        "-8x_2-2x_3=-2 \\\\\n",
        "x_3=11\n",
        "\\end{array}\n",
        "$ \\\\\n",
        "Converting this to a matrix, we have, \\\\\n",
        "$ \\begin{bmatrix}\n",
        "2 & 1 & 1\n",
        "\\\\ 0 & -8 & -2\n",
        "\\\\ 0 & 0 & 1\n",
        "\\end{bmatrix} $\n",
        "$ \\begin{bmatrix}\n",
        "x_1 \\\\\n",
        "x_2 \\\\\n",
        "x_3\n",
        "\\end{bmatrix} =\n",
        "\\begin{bmatrix}\n",
        "5 \\\\\n",
        "-2 \\\\\n",
        "11\n",
        "\\end{bmatrix} $. \\\\\n",
        "Note that the matrix is an upper triangular matrix. Thus, we can use backward substitution.\n"
      ],
      "metadata": {
        "id": "Jgg6SvILnZ1i"
      }
    },
    {
      "cell_type": "code",
      "source": [
        "U=np.array([[2,1,1],\n",
        "            [0,-8,-2],\n",
        "            [0,0,1]])\n",
        "d=np.array([[5],\n",
        "            [-2],\n",
        "            [11]])\n",
        "print(\"Solution: \", backsub(U,d))"
      ],
      "metadata": {
        "colab": {
          "base_uri": "https://localhost:8080/"
        },
        "id": "pgrSfUvuoBE2",
        "outputId": "f3ec40e3-3d8e-4147-a17c-0c1dd53f92d5"
      },
      "execution_count": null,
      "outputs": [
        {
          "output_type": "stream",
          "name": "stdout",
          "text": [
            "Solution:  [-1.75 -2.5  11.  ]\n"
          ]
        }
      ]
    },
    {
      "cell_type": "markdown",
      "source": [
        "# LU Decomposition\n",
        "Forward subsitution is only used for lower triangular matrices or matrices that only have entries on the lower diagonal while the other only has zeros, and backward substitution is used for upper triangular matrices. To be able to solve for any kind of matrix that has a real solution, we decompose said matrix."
      ],
      "metadata": {
        "id": "UfoSMukGf5DH"
      }
    },
    {
      "cell_type": "code",
      "execution_count": null,
      "metadata": {
        "id": "HpflAGcwePcj"
      },
      "outputs": [],
      "source": [
        "import numpy as np\n",
        "\n",
        "def LU_decomposition(A):\n",
        "    m, n = A.shape\n",
        "    U = np.copy(A).astype(float)\n",
        "    L = np.eye(m)\n",
        "    for k in range(n):\n",
        "        L[k+1:,k] = U[k+1:,k] / U[k,k]\n",
        "        U[k+1:,k:] -= np.outer(L[k+1:,k], U[k,k:])\n",
        "    return L, U"
      ]
    },
    {
      "cell_type": "markdown",
      "source": [
        "Let's try with an example.\n",
        "Say we have the following linear system: \\\\\n",
        "$\n",
        "\\begin{array}{r}\n",
        "2x_1+x_2+x_3=5 \\\\\n",
        "4x_1-6x_2=-2 \\\\\n",
        "-2x_1+7x_2+2x_3=9\n",
        "\\end{array}\n",
        "$ \\\\\n",
        "Converting this to a matrix, we have, \\\\\n",
        "$ \\begin{bmatrix}\n",
        "2 & 1 & 1\n",
        "\\\\ 4 & -6 & 0\n",
        "\\\\ -2 & 7 & 2\n",
        "\\end{bmatrix} $\n",
        "$ \\begin{bmatrix}\n",
        "x_1 \\\\\n",
        "x_2 \\\\\n",
        "x_3\n",
        "\\end{bmatrix} =\n",
        "\\begin{bmatrix}\n",
        "5 \\\\\n",
        "-2 \\\\\n",
        "9\n",
        "\\end{bmatrix} $. \\\\\n"
      ],
      "metadata": {
        "id": "C1Qdyh13hX20"
      }
    },
    {
      "cell_type": "code",
      "source": [
        "A = np.array([\n",
        "    [2, 1, 1],\n",
        "    [4, -6, 0],\n",
        "    [-2, 7, 2]\n",
        "])\n",
        "b=np.array([[5],\n",
        "            [-2],\n",
        "            [9]])"
      ],
      "metadata": {
        "id": "9ASyKT20hWiU"
      },
      "execution_count": null,
      "outputs": []
    },
    {
      "cell_type": "markdown",
      "source": [
        "Applying the method and simultaneously showing the derived lower and upper matrices,"
      ],
      "metadata": {
        "id": "_t_uAvZzhp7X"
      }
    },
    {
      "cell_type": "code",
      "source": [
        "L,U=LU_decomposition(A)\n",
        "print(\"Lower triangular matrix: \\n\", L)\n",
        "print(\"Upper triangular matrix: \\n\", U)"
      ],
      "metadata": {
        "colab": {
          "base_uri": "https://localhost:8080/"
        },
        "id": "MmMU0bQJhoM2",
        "outputId": "c642957b-0312-41c5-f0c5-80275118ce16"
      },
      "execution_count": null,
      "outputs": [
        {
          "output_type": "stream",
          "name": "stdout",
          "text": [
            "Lower triangular matrix: \n",
            " [[ 1.  0.  0.]\n",
            " [ 2.  1.  0.]\n",
            " [-1. -1.  1.]]\n",
            "Upper triangular matrix: \n",
            " [[ 2.  1.  1.]\n",
            " [ 0. -8. -2.]\n",
            " [ 0.  0.  1.]]\n"
          ]
        }
      ]
    },
    {
      "cell_type": "markdown",
      "source": [
        "Now, the linear system is now of the form $(LU)x=b$. Note that matrix manipulation is associative. We first solve for $Ux=y$ so we're left with $Ly=b$"
      ],
      "metadata": {
        "id": "sczbrybVpUzZ"
      }
    },
    {
      "cell_type": "code",
      "source": [
        "y=forsub(L,b)\n",
        "y"
      ],
      "metadata": {
        "colab": {
          "base_uri": "https://localhost:8080/"
        },
        "id": "KfMgJ1bZh1Wg",
        "outputId": "62d256d8-4575-4363-ef48-457c9e299c6e"
      },
      "execution_count": null,
      "outputs": [
        {
          "output_type": "execute_result",
          "data": {
            "text/plain": [
              "array([  5., -12.,   2.])"
            ]
          },
          "metadata": {},
          "execution_count": 8
        }
      ]
    },
    {
      "cell_type": "markdown",
      "source": [
        "Now, we have"
      ],
      "metadata": {
        "id": "7EPDvHGWp8Ac"
      }
    },
    {
      "cell_type": "code",
      "source": [
        "x = backsub(U, y)\n",
        "print(\"Solution: \", x)"
      ],
      "metadata": {
        "colab": {
          "base_uri": "https://localhost:8080/"
        },
        "id": "AA65wprfp42j",
        "outputId": "2ed9d569-1ba9-4bf4-9ad2-313275314130"
      },
      "execution_count": null,
      "outputs": [
        {
          "output_type": "stream",
          "name": "stdout",
          "text": [
            "Solution:  [1. 1. 2.]\n"
          ]
        }
      ]
    },
    {
      "cell_type": "markdown",
      "source": [
        "# Gauss-Seidel\n",
        "Gauss-Seidel Method is an iterative algorithm used to solve systems of linear equations, especially when the system is large and sparse."
      ],
      "metadata": {
        "id": "hqOzeNCUrk_2"
      }
    },
    {
      "cell_type": "code",
      "source": [
        "import numpy as np\n",
        "\n",
        "def gaussSeidel(A, b, x0, tol, max_iter):\n",
        "    n = A.shape[0]\n",
        "    x = np.copy(x0)\n",
        "    count_iter = 0\n",
        "    while np.linalg.norm(A @ x - b) / np.linalg.norm(b) >= tol:\n",
        "        count_iter += 1\n",
        "        if count_iter > max_iter:\n",
        "            print('Method failed after {count_iter} iterations')\n",
        "            break\n",
        "        for i in range(n):\n",
        "            x[i] = (b[i] - A[i, :i] @ x[:i] - A[i, i+1:] @ x[i+1:]) / A[i, i]\n",
        "    return x, count_iter\n"
      ],
      "metadata": {
        "id": "rFaYUGc7s3PC"
      },
      "execution_count": null,
      "outputs": []
    },
    {
      "cell_type": "markdown",
      "source": [
        "Let's try with the following matrix: \\\\\n",
        "$\n",
        "\\begin{bmatrix}\n",
        "10 & -1 & 2 & 0 & 3 \\\\\n",
        "1 & 12 & -3 & 2 & -1 \\\\\n",
        "2 & -1 & 15 & -4 & 1 \\\\\n",
        "0 & 2 & -2 & 20 & -3 \\\\\n",
        "3 & -1 & 1 & -2 & 25\n",
        "\\end{bmatrix}\n",
        "\\begin{bmatrix}\n",
        "x_1 \\\\\n",
        "x_2 \\\\\n",
        "x_3 \\\\\n",
        "x_4 \\\\\n",
        "x_5\n",
        "\\end{bmatrix}\n",
        "=\n",
        "\\begin{bmatrix}\n",
        "15 \\\\\n",
        "10 \\\\\n",
        "25 \\\\\n",
        "30 \\\\\n",
        "20\n",
        "\\end{bmatrix}\n",
        "$"
      ],
      "metadata": {
        "id": "4sq-8E7PtMSc"
      }
    },
    {
      "cell_type": "code",
      "source": [
        "A = np.array ([[10, -1, 2, 0, 3],\n",
        "              [1, 12, -3, 2, -1],\n",
        "              [2, -1, 15, -4, 1],\n",
        "              [0, 2, -2, 20, -3],\n",
        "              [3, -1, 1, -2, 25]])\n",
        "b = np.array([[15],\n",
        "              [10],\n",
        "              [25],\n",
        "              [30],\n",
        "              [20]])"
      ],
      "metadata": {
        "id": "FUo3S2sYs5uK"
      },
      "execution_count": null,
      "outputs": []
    },
    {
      "cell_type": "markdown",
      "source": [
        "Applying Gauss-Seidel with a tolerance of $10^{-12}$ and max iterations of $10000$,"
      ],
      "metadata": {
        "id": "oxKLb8H3ur1Q"
      }
    },
    {
      "cell_type": "code",
      "source": [
        "x0 = np.zeros((5,1))\n",
        "x,iter=gaussSeidel(A,b,x0,10**-12,10000)\n",
        "print(\"Solution:\\n\", x)\n",
        "print(\"Number of iterations: \",iter)"
      ],
      "metadata": {
        "colab": {
          "base_uri": "https://localhost:8080/"
        },
        "id": "rkrwJZCKuMvY",
        "outputId": "b8b695ef-31a8-44a0-d349-ed8fefea3618"
      },
      "execution_count": null,
      "outputs": [
        {
          "output_type": "stream",
          "name": "stdout",
          "text": [
            "Solution:\n",
            " [[0.96646782]\n",
            " [1.03514018]\n",
            " [2.01200606]\n",
            " [1.71500908]\n",
            " [0.78214995]]\n",
            "Number of iterations:  13\n"
          ]
        }
      ]
    }
  ]
}