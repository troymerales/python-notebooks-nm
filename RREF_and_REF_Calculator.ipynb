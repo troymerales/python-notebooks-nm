{
  "nbformat": 4,
  "nbformat_minor": 0,
  "metadata": {
    "colab": {
      "provenance": [],
      "include_colab_link": true
    },
    "kernelspec": {
      "name": "python3",
      "display_name": "Python 3"
    },
    "language_info": {
      "name": "python"
    }
  },
  "cells": [
    {
      "cell_type": "markdown",
      "metadata": {
        "id": "view-in-github",
        "colab_type": "text"
      },
      "source": [
        "<a href=\"https://colab.research.google.com/github/troymerales/python-notebooks-nm/blob/main/RREF_and_REF_Calculator.ipynb\" target=\"_parent\"><img src=\"https://colab.research.google.com/assets/colab-badge.svg\" alt=\"Open In Colab\"/></a>"
      ]
    },
    {
      "cell_type": "markdown",
      "source": [
        "#Row echelon form (REF)\n",
        "\n",
        "This notebook shows my code for reducing a matrix into its row echelon form. A matrix is in row echelon from if:\n",
        "\n",
        "1.   All nonzero rows are above any rows of all zeros.\n",
        "2.   The leading non-zero entry of each row is to the right of the leading entry in the row above it.\n",
        "3. All entries below each leading entry are zeros."
      ],
      "metadata": {
        "id": "TzOOmxqE3HvB"
      }
    },
    {
      "cell_type": "code",
      "source": [
        "import numpy as np\n",
        "\n",
        "def ref(A):\n",
        "  A=A.astype(float)\n",
        "  row, col = A.shape\n",
        "  iter=0\n",
        "\n",
        "  print(f\"A = {A}\\n\\n\\nSolution: \\n\")\n",
        "\n",
        "  for i in range(row):\n",
        "    if A[i][i] == 0:\n",
        "      for r in range(i+1, row):\n",
        "        if A[r][i] != 0:\n",
        "          A[i], A[r] = A[r], A[i].copy()\n",
        "          iter+=1\n",
        "          print(f\"{iter}. Swapped R{i+1} and R{r+1}\\n{A}\\n\")\n",
        "          break\n",
        "    denom=A[i][i]\n",
        "    A[i]=A[i]/A[i][i]\n",
        "    iter+=1\n",
        "    print(f\"{iter}. R{i+1} = R{i+1}/{denom}\\n{A}\\n\")\n",
        "\n",
        "    for r in range(i+1,row):\n",
        "      coef=A[r][i]\n",
        "      A[r]=A[r]-(A[r][i]*A[i])\n",
        "      iter+=1\n",
        "      print(f\"{iter}. R{r+1} = R{r+1} - {coef}R{i+1}\\n{A}\\n\")\n",
        "\n",
        "  print(f\"\\n\\nREF Form: \\n{A}\")"
      ],
      "metadata": {
        "id": "9DyCGC024XdK"
      },
      "execution_count": null,
      "outputs": []
    },
    {
      "cell_type": "code",
      "source": [
        "A = np.array([[2, 1, -1, 8],\n",
        "              [-3, -1, 2, -11],\n",
        "              [-2, 1, 2, -3]], dtype=float)\n",
        "ref(A)"
      ],
      "metadata": {
        "colab": {
          "base_uri": "https://localhost:8080/"
        },
        "id": "kepKnJ41WXbF",
        "outputId": "1bf52f82-b7d8-4f4c-c84f-45cea7d872fc"
      },
      "execution_count": null,
      "outputs": [
        {
          "output_type": "stream",
          "name": "stdout",
          "text": [
            "A = [[  2.   1.  -1.   8.]\n",
            " [ -3.  -1.   2. -11.]\n",
            " [ -2.   1.   2.  -3.]]\n",
            "\n",
            "\n",
            "Solution: \n",
            "\n",
            "1. R1 = R1/2.0\n",
            "[[  1.    0.5  -0.5   4. ]\n",
            " [ -3.   -1.    2.  -11. ]\n",
            " [ -2.    1.    2.   -3. ]]\n",
            "\n",
            "2. R2 = R2 - -3.0R1\n",
            "[[ 1.   0.5 -0.5  4. ]\n",
            " [ 0.   0.5  0.5  1. ]\n",
            " [-2.   1.   2.  -3. ]]\n",
            "\n",
            "3. R3 = R3 - -2.0R1\n",
            "[[ 1.   0.5 -0.5  4. ]\n",
            " [ 0.   0.5  0.5  1. ]\n",
            " [ 0.   2.   1.   5. ]]\n",
            "\n",
            "4. R2 = R2/0.5\n",
            "[[ 1.   0.5 -0.5  4. ]\n",
            " [ 0.   1.   1.   2. ]\n",
            " [ 0.   2.   1.   5. ]]\n",
            "\n",
            "5. R3 = R3 - 2.0R2\n",
            "[[ 1.   0.5 -0.5  4. ]\n",
            " [ 0.   1.   1.   2. ]\n",
            " [ 0.   0.  -1.   1. ]]\n",
            "\n",
            "6. R3 = R3/-1.0\n",
            "[[ 1.   0.5 -0.5  4. ]\n",
            " [ 0.   1.   1.   2. ]\n",
            " [-0.  -0.   1.  -1. ]]\n",
            "\n",
            "\n",
            "\n",
            "REF Form: \n",
            "[[ 1.   0.5 -0.5  4. ]\n",
            " [ 0.   1.   1.   2. ]\n",
            " [-0.  -0.   1.  -1. ]]\n"
          ]
        }
      ]
    },
    {
      "cell_type": "markdown",
      "source": [
        "# Reduced row echelon form (RREF)\n",
        "A matrix is in reduced row echelon form if:\n",
        "1. All leading entries or pivots are 1.\n",
        "2. Each pivot is the only nonzero entry in its column.\n",
        "3. Each pivot appears to the right of the pivot in the row above.\n",
        "4. Any row with all zero entries is at the bottom.\n",
        "\n",
        "We will reuse the `ref` function and start from there."
      ],
      "metadata": {
        "id": "RK7YyjkHM-2h"
      }
    },
    {
      "cell_type": "code",
      "source": [
        "import numpy as np\n",
        "\n",
        "def rref(A):\n",
        "  row, col = A.shape\n",
        "  A = A.astype(float)\n",
        "  iter=0\n",
        "\n",
        "  print(f\"A = {A}\\n\\n\\n\")\n",
        "\n",
        "  for i in range(row):\n",
        "    if A[i][i] == 0:\n",
        "      for r in range(i+1, row):\n",
        "        if A[r][i] != 0:\n",
        "          A[i], A[r] = A[r], A[i].copy()\n",
        "          print(f\"{iter}. Swapped R{i+1} and R{r+1}\\n{A}\\n\")\n",
        "          break\n",
        "\n",
        "    denom=A[i][i]\n",
        "    iter+=1\n",
        "    print(f\"{iter}. R{i+1} = R{i+1}/{denom}\\n{A}\\n\")\n",
        "    A[i] = A[i] / A[i][i]\n",
        "    for r in range(i+1, row):\n",
        "      coef=A[r][i]\n",
        "      A[r] = A[r] - A[r][i] * A[i]\n",
        "      iter+=1\n",
        "      print(f\"{iter}. R{r+1} = R{r+1} - {coef}R{i+1}\\n{A}\\n\")\n",
        "\n",
        "  for i in reversed(range(row)):\n",
        "    for r in range(i):\n",
        "      coef=A[r][i]\n",
        "      A[r] = A[r] - A[r][i] * A[i]\n",
        "      iter+=1\n",
        "      print(f\"{iter}. R{r+1} = R{r+1} - {coef}R{i+1}\\n{A}\\n\")"
      ],
      "metadata": {
        "id": "pe3O31-b5XeX"
      },
      "execution_count": null,
      "outputs": []
    },
    {
      "cell_type": "code",
      "source": [
        "A = np.array([[1, 2, -1, -4],\n",
        "              [2, 3, -1, -11],\n",
        "              [-2, 0, -3, 22]], dtype=float)\n",
        "\n",
        "rref(A)"
      ],
      "metadata": {
        "colab": {
          "base_uri": "https://localhost:8080/"
        },
        "id": "rlJJUehrPPdU",
        "outputId": "a9ae5dd1-dc8d-4d3b-c479-bf3680b89b9e"
      },
      "execution_count": null,
      "outputs": [
        {
          "output_type": "stream",
          "name": "stdout",
          "text": [
            "A = [[  1.   2.  -1.  -4.]\n",
            " [  2.   3.  -1. -11.]\n",
            " [ -2.   0.  -3.  22.]]\n",
            "\n",
            "\n",
            "\n",
            "1. R1 = R1/1.0\n",
            "[[  1.   2.  -1.  -4.]\n",
            " [  2.   3.  -1. -11.]\n",
            " [ -2.   0.  -3.  22.]]\n",
            "\n",
            "2. R2 = R2 - 2.0R1\n",
            "[[ 1.  2. -1. -4.]\n",
            " [ 0. -1.  1. -3.]\n",
            " [-2.  0. -3. 22.]]\n",
            "\n",
            "3. R3 = R3 - -2.0R1\n",
            "[[ 1.  2. -1. -4.]\n",
            " [ 0. -1.  1. -3.]\n",
            " [ 0.  4. -5. 14.]]\n",
            "\n",
            "4. R2 = R2/-1.0\n",
            "[[ 1.  2. -1. -4.]\n",
            " [ 0. -1.  1. -3.]\n",
            " [ 0.  4. -5. 14.]]\n",
            "\n",
            "5. R3 = R3 - 4.0R2\n",
            "[[ 1.  2. -1. -4.]\n",
            " [-0.  1. -1.  3.]\n",
            " [ 0.  0. -1.  2.]]\n",
            "\n",
            "6. R3 = R3/-1.0\n",
            "[[ 1.  2. -1. -4.]\n",
            " [-0.  1. -1.  3.]\n",
            " [ 0.  0. -1.  2.]]\n",
            "\n",
            "7. R1 = R1 - -1.0R3\n",
            "[[ 1.  2.  0. -6.]\n",
            " [-0.  1. -1.  3.]\n",
            " [-0. -0.  1. -2.]]\n",
            "\n",
            "8. R2 = R2 - -1.0R3\n",
            "[[ 1.  2.  0. -6.]\n",
            " [-0.  1.  0.  1.]\n",
            " [-0. -0.  1. -2.]]\n",
            "\n",
            "9. R1 = R1 - 2.0R2\n",
            "[[ 1.  0.  0. -8.]\n",
            " [-0.  1.  0.  1.]\n",
            " [-0. -0.  1. -2.]]\n",
            "\n"
          ]
        },
        {
          "output_type": "execute_result",
          "data": {
            "text/plain": [
              "array([[ 1.,  0.,  0., -8.],\n",
              "       [-0.,  1.,  0.,  1.],\n",
              "       [-0., -0.,  1., -2.]])"
            ]
          },
          "metadata": {},
          "execution_count": 58
        }
      ]
    }
  ]
}