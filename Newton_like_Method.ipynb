{
  "nbformat": 4,
  "nbformat_minor": 0,
  "metadata": {
    "colab": {
      "provenance": [],
      "include_colab_link": true
    },
    "kernelspec": {
      "name": "python3",
      "display_name": "Python 3"
    },
    "language_info": {
      "name": "python"
    }
  },
  "cells": [
    {
      "cell_type": "markdown",
      "metadata": {
        "id": "view-in-github",
        "colab_type": "text"
      },
      "source": [
        "<a href=\"https://colab.research.google.com/github/troymerales/python-notebooks-nm/blob/main/Newton_like_Method.ipynb\" target=\"_parent\"><img src=\"https://colab.research.google.com/assets/colab-badge.svg\" alt=\"Open In Colab\"/></a>"
      ]
    },
    {
      "cell_type": "markdown",
      "source": [
        "# Newton-like Method\n",
        "This code is an implementation of Sharma and Guha's (2015) paper entitled *Simple yet efficient Newton-like method for systems of nonlinear equations*. The methodology is based on Newton's and Newton like iterations, hence the name. The paper only discussed about the theory, so this code is technically an expository on the said paper.\n"
      ],
      "metadata": {
        "id": "JEPf344CErd8"
      }
    },
    {
      "cell_type": "code",
      "execution_count": null,
      "metadata": {
        "colab": {
          "base_uri": "https://localhost:8080/"
        },
        "id": "s9T9GA3FCLxf",
        "outputId": "cc69a8ca-b5de-429c-bb45-bb19821b90d3"
      },
      "outputs": [
        {
          "output_type": "stream",
          "name": "stdout",
          "text": [
            "Solution: [1.41421356 1.41421356]\n"
          ]
        }
      ],
      "source": [
        "import numpy as np\n",
        "from numpy.linalg import solve, norm\n",
        "\n",
        "# System of equations F(x)\n",
        "def F(x):\n",
        "    return np.array([\n",
        "        x[0]**2 + x[1]**2 - 4,  # f1\n",
        "        x[0] - x[1]             # f2\n",
        "    ])\n",
        "\n",
        "# Jacobian matrix J(x)\n",
        "def J(x):\n",
        "    return np.array([\n",
        "        [2*x[0], 2*x[1]],\n",
        "        [1, -1]\n",
        "    ])\n",
        "\n",
        "# Newton-like method\n",
        "def newton_like(F, J, x0, tol=1e-10, max_iter=100):\n",
        "    x = x0\n",
        "    for i in range(max_iter):\n",
        "        Fx = F(x)\n",
        "        Jx = J(x)\n",
        "\n",
        "        y = x - solve(Jx, Fx)\n",
        "        Fy = F(y)\n",
        "\n",
        "        z = y - 5 * solve(Jx, Fy)\n",
        "        Fz = F(z)\n",
        "\n",
        "        x_new = y - (9/5) * solve(Jx, Fy) - (1/5) * solve(Jx, Fz)\n",
        "\n",
        "        if norm(x_new - x) < tol:\n",
        "            return x_new\n",
        "        x = x_new\n",
        "\n",
        "    raise Exception(\"Method did not converge\")\n",
        "\n",
        "x0 = np.array([1.5, 1.0])\n",
        "\n",
        "solution = newton_like(F, J, x0)\n",
        "print(\"Solution:\", solution)\n"
      ]
    }
  ]
}