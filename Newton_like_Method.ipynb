{
  "nbformat": 4,
  "nbformat_minor": 0,
  "metadata": {
    "colab": {
      "provenance": [],
      "include_colab_link": true
    },
    "kernelspec": {
      "name": "python3",
      "display_name": "Python 3"
    },
    "language_info": {
      "name": "python"
    }
  },
  "cells": [
    {
      "cell_type": "markdown",
      "metadata": {
        "id": "view-in-github",
        "colab_type": "text"
      },
      "source": [
        "<a href=\"https://colab.research.google.com/github/troymerales/python-notebooks-nm/blob/main/Newton_like_Method.ipynb\" target=\"_parent\"><img src=\"https://colab.research.google.com/assets/colab-badge.svg\" alt=\"Open In Colab\"/></a>"
      ]
    },
    {
      "cell_type": "markdown",
      "source": [
        "# Newton-like Method\n",
        "This code is an implementation of Sharma and Guha's (2015) paper entitled *Simple yet efficient Newton-like method for systems of nonlinear equations*. The methodology is based on Newton's and Newton like iterations, hence the name. The paper only discussed about the theory, so this code is technically an expository on the said paper. A functionality was added to allow the user to choose between open and closed nodes and choose $n$ as this will indicate what rule will be used."
      ],
      "metadata": {
        "id": "hPS7b0N9UmDS"
      }
    },
    {
      "cell_type": "code",
      "execution_count": 1,
      "metadata": {
        "id": "LzLfnPfxBuos"
      },
      "outputs": [],
      "source": [
        "import numpy as np\n",
        "\n",
        "#closed\n",
        "def c1(f, a, b):  # Trapezoidal Rule\n",
        "    return (b - a) / 2 * (f(a) + f(b))\n",
        "\n",
        "def c2(f, a, b):  # Simpson's Rule\n",
        "    h = (b - a) / 2\n",
        "    x1 = a + h\n",
        "    return (h / 3) * (f(a) + 4*f(x1) + f(b))\n",
        "\n",
        "def c3(f, a, b):  # Simpson's 3/8 Rule\n",
        "    h = (b - a) / 3\n",
        "    x1 = a + h\n",
        "    x2 = a + 2*h\n",
        "    return (3 * h / 8) * (f(a) + 3*f(x1) + 3*f(x2) + f(b))\n",
        "\n",
        "def c4(f, a, b):  # Boole's Rule\n",
        "    h = (b - a) / 4\n",
        "    x1 = a + h\n",
        "    x2 = a + 2*h\n",
        "    x3 = a + 3*h\n",
        "    return (2 * h / 45) * (7*f(a) + 32*f(x1) + 12*f(x2) + 32*f(x3) + 7*f(b))\n",
        "\n",
        "#open\n",
        "def o0(f, a, b):  # Midpoint Rule\n",
        "    h = (b - a) / 2\n",
        "    return 2 * h * f(a + h)\n",
        "\n",
        "def o1(f, a, b): # n = 1\n",
        "    h = (b - a) / 3\n",
        "    x1 = a + h\n",
        "    x2 = a + 2*h\n",
        "    return (3 * h / 2) * (f(x1) + f(x2))\n",
        "\n",
        "def o2(f, a, b): # n = 2\n",
        "    h = (b - a) / 4\n",
        "    x1 = a + h\n",
        "    x2 = a + 2*h\n",
        "    x3 = a + 3*h\n",
        "    return (4 * h / 3) * (2*f(x1) - f(x2) + 2*f(x3))\n",
        "\n",
        "def o3(f, a, b): # n = 3\n",
        "    h = (b - a) / 5\n",
        "    x1 = a + h\n",
        "    x2 = a + 2*h\n",
        "    x3 = a + 3*h\n",
        "    x4 = a + 4*h\n",
        "    return (5 * h / 24) * (11*f(x1) + f(x2) + f(x3) + 11*f(x4))\n",
        "\n",
        "def choose_newton_cotes():\n",
        "    choice = int(input(\"Choose type (0 - Open | 1 - Closed): \"))\n",
        "    n = int(input(\"Enter the value of n: \"))\n",
        "    a = eval(input(\"Enter the lower limit a: \"))\n",
        "    b = eval(input(\"Enter the upper limit b: \"))\n",
        "\n",
        "    if choice == 1:\n",
        "        nc = \"Closed\"\n",
        "        if n == 1:\n",
        "            result = c1(f, a, b)\n",
        "        elif n == 2:\n",
        "            result = c2(f, a, b)\n",
        "        elif n == 3:\n",
        "            result = c3(f, a, b)\n",
        "        elif n == 4:\n",
        "            result = c4(f, a, b)\n",
        "        else:\n",
        "            print(\"n must be 1, 2, or 3\")\n",
        "            return\n",
        "\n",
        "    elif choice == 0:\n",
        "        nc = \"Open\"\n",
        "        if n == 0:\n",
        "            result = o0(f, a, b)\n",
        "        elif n == 1:\n",
        "            result = o1(f, a, b)\n",
        "        elif n == 2:\n",
        "            result = o2(f, a, b)\n",
        "        elif n == 3:\n",
        "            result = o3(f, a, b)\n",
        "        else:\n",
        "            print(\"n must be 0, 1, 2, or 3\")\n",
        "            return\n",
        "\n",
        "    else:\n",
        "        print(\"Choice must be 0 or 1\")\n",
        "        return\n",
        "\n",
        "    print(f\"\\nThe integral is approximately {result}\")"
      ]
    },
    {
      "cell_type": "code",
      "source": [
        "def f(x):\n",
        "    return (np.sin(x))**2-2*x*np.sin(x)+1"
      ],
      "metadata": {
        "id": "poNV7IaEB3DB"
      },
      "execution_count": 2,
      "outputs": []
    },
    {
      "cell_type": "code",
      "source": [
        "choose_newton_cotes()"
      ],
      "metadata": {
        "id": "H3AYjgdtB8dp",
        "colab": {
          "base_uri": "https://localhost:8080/"
        },
        "outputId": "f791f9f9-0eec-4c82-949e-f3851111d233"
      },
      "execution_count": 3,
      "outputs": [
        {
          "output_type": "stream",
          "name": "stdout",
          "text": [
            "Choose type (0 - Open | 1 - Closed): 0\n",
            "Enter the value of n: 2\n",
            "Enter the lower limit a: 2\n",
            "Enter the upper limit b: 5\n",
            "\n",
            "The integral is approximately 13.331358839048148\n"
          ]
        }
      ]
    }
  ]
}